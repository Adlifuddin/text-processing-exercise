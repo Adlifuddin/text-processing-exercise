{
 "cells": [
  {
   "cell_type": "code",
   "execution_count": 1,
   "source": [
    "from transformers import AutoTokenizer, AutoModelForSequenceClassification\r\n",
    "  \r\n",
    "tokenizer = AutoTokenizer.from_pretrained(\"finiteautomata/beto-sentiment-analysis\")\r\n",
    "\r\n",
    "model = AutoModelForSequenceClassification.from_pretrained(\"finiteautomata/beto-sentiment-analysis\")"
   ],
   "outputs": [
    {
     "output_type": "stream",
     "name": "stderr",
     "text": [
      "Downloading: 100%|██████████| 528/528 [00:00<00:00, 273kB/s]\n",
      "Downloading: 100%|██████████| 841/841 [00:00<00:00, 253kB/s]\n",
      "Downloading: 100%|██████████| 242k/242k [00:00<00:00, 509kB/s]\n",
      "Downloading: 100%|██████████| 481k/481k [00:00<00:00, 686kB/s]\n",
      "Downloading: 100%|██████████| 67.0/67.0 [00:00<00:00, 67.2kB/s]\n",
      "Downloading: 100%|██████████| 112/112 [00:00<00:00, 22.4kB/s]\n",
      "Downloading: 100%|██████████| 440M/440M [02:00<00:00, 3.65MB/s]\n"
     ]
    }
   ],
   "metadata": {}
  },
  {
   "cell_type": "code",
   "execution_count": 9,
   "source": [
    "inputs = tokenizer(\"I like you. I love you\", return_tensors=\"pt\")\r\n",
    "outputs = model(**inputs)[0]\r\n",
    "outputs"
   ],
   "outputs": [
    {
     "output_type": "execute_result",
     "data": {
      "text/plain": [
       "tensor([[-2.0819, -2.5146,  4.7849]], grad_fn=<AddmmBackward>)"
      ]
     },
     "metadata": {},
     "execution_count": 9
    }
   ],
   "metadata": {}
  },
  {
   "cell_type": "code",
   "execution_count": 11,
   "source": [
    "from transformers import pipeline\r\n",
    "\r\n",
    "# Pretrained model = \r\n",
    "classifier = pipeline('sentiment-analysis', device=-1)"
   ],
   "outputs": [
    {
     "output_type": "stream",
     "name": "stderr",
     "text": [
      "Downloading: 100%|██████████| 629/629 [00:00<00:00, 134kB/s]\n",
      "Downloading: 100%|██████████| 268M/268M [01:15<00:00, 3.53MB/s]\n",
      "Downloading: 100%|██████████| 48.0/48.0 [00:00<00:00, 8.01kB/s]\n",
      "Downloading: 100%|██████████| 232k/232k [00:00<00:00, 489kB/s]\n"
     ]
    }
   ],
   "metadata": {}
  }
 ],
 "metadata": {
  "orig_nbformat": 4,
  "language_info": {
   "name": "python",
   "version": "3.9.5",
   "mimetype": "text/x-python",
   "codemirror_mode": {
    "name": "ipython",
    "version": 3
   },
   "pygments_lexer": "ipython3",
   "nbconvert_exporter": "python",
   "file_extension": ".py"
  },
  "kernelspec": {
   "name": "python3",
   "display_name": "Python 3.9.5 64-bit ('venv': venv)"
  },
  "interpreter": {
   "hash": "ff3bca78fb5aa06f77b0acc16fb034ebfdaa95e6def02107f20b05109b7a797f"
  }
 },
 "nbformat": 4,
 "nbformat_minor": 2
}