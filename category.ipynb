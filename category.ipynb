{
 "cells": [
  {
   "cell_type": "code",
   "execution_count": 96,
   "source": [
    "import pandas as pd \r\n",
    "import numpy as np"
   ],
   "outputs": [],
   "metadata": {}
  },
  {
   "cell_type": "code",
   "execution_count": 97,
   "source": [
    "# spam data\r\n",
    "spam_data = pd.read_csv('category/spam_data.csv')\r\n",
    "spam_data.columns\r\n",
    "print(len(spam_data))"
   ],
   "outputs": [
    {
     "output_type": "stream",
     "name": "stdout",
     "text": [
      "5572\n"
     ]
    }
   ],
   "metadata": {}
  },
  {
   "cell_type": "code",
   "execution_count": 98,
   "source": [
    "spam_data = spam_data.loc[spam_data['Category'] == 'spam']\r\n",
    "spam_data.rename(columns = {'Message': 'text'}, inplace = True)\r\n",
    "print(spam_data.head())\r\n",
    "print(len(spam_data))"
   ],
   "outputs": [
    {
     "output_type": "stream",
     "name": "stdout",
     "text": [
      "   Category                                               text\n",
      "2      spam  Free entry in 2 a wkly comp to win FA Cup fina...\n",
      "5      spam  FreeMsg Hey there darling it's been 3 week's n...\n",
      "8      spam  WINNER!! As a valued network customer you have...\n",
      "9      spam  Had your mobile 11 months or more? U R entitle...\n",
      "11     spam  SIX chances to win CASH! From 100 to 20,000 po...\n",
      "747\n"
     ]
    }
   ],
   "metadata": {}
  },
  {
   "cell_type": "code",
   "execution_count": 99,
   "source": [
    "spam_data.loc[spam_data['Category'] == 'spam', 'Category'] = 0\r\n",
    "spam_data.head()"
   ],
   "outputs": [
    {
     "output_type": "execute_result",
     "data": {
      "text/plain": [
       "   Category                                               text\n",
       "2         0  Free entry in 2 a wkly comp to win FA Cup fina...\n",
       "5         0  FreeMsg Hey there darling it's been 3 week's n...\n",
       "8         0  WINNER!! As a valued network customer you have...\n",
       "9         0  Had your mobile 11 months or more? U R entitle...\n",
       "11        0  SIX chances to win CASH! From 100 to 20,000 po..."
      ],
      "text/html": [
       "<div>\n",
       "<style scoped>\n",
       "    .dataframe tbody tr th:only-of-type {\n",
       "        vertical-align: middle;\n",
       "    }\n",
       "\n",
       "    .dataframe tbody tr th {\n",
       "        vertical-align: top;\n",
       "    }\n",
       "\n",
       "    .dataframe thead th {\n",
       "        text-align: right;\n",
       "    }\n",
       "</style>\n",
       "<table border=\"1\" class=\"dataframe\">\n",
       "  <thead>\n",
       "    <tr style=\"text-align: right;\">\n",
       "      <th></th>\n",
       "      <th>Category</th>\n",
       "      <th>text</th>\n",
       "    </tr>\n",
       "  </thead>\n",
       "  <tbody>\n",
       "    <tr>\n",
       "      <th>2</th>\n",
       "      <td>0</td>\n",
       "      <td>Free entry in 2 a wkly comp to win FA Cup fina...</td>\n",
       "    </tr>\n",
       "    <tr>\n",
       "      <th>5</th>\n",
       "      <td>0</td>\n",
       "      <td>FreeMsg Hey there darling it's been 3 week's n...</td>\n",
       "    </tr>\n",
       "    <tr>\n",
       "      <th>8</th>\n",
       "      <td>0</td>\n",
       "      <td>WINNER!! As a valued network customer you have...</td>\n",
       "    </tr>\n",
       "    <tr>\n",
       "      <th>9</th>\n",
       "      <td>0</td>\n",
       "      <td>Had your mobile 11 months or more? U R entitle...</td>\n",
       "    </tr>\n",
       "    <tr>\n",
       "      <th>11</th>\n",
       "      <td>0</td>\n",
       "      <td>SIX chances to win CASH! From 100 to 20,000 po...</td>\n",
       "    </tr>\n",
       "  </tbody>\n",
       "</table>\n",
       "</div>"
      ]
     },
     "metadata": {},
     "execution_count": 99
    }
   ],
   "metadata": {}
  },
  {
   "cell_type": "code",
   "execution_count": 100,
   "source": [
    "#  complaint data\r\n",
    "complaint_data = pd.read_csv('category/complaint_data.csv')\r\n",
    "complaint_data.columns"
   ],
   "outputs": [
    {
     "output_type": "execute_result",
     "data": {
      "text/plain": [
       "Index(['author', 'posted_on', 'rating', 'text'], dtype='object')"
      ]
     },
     "metadata": {},
     "execution_count": 100
    }
   ],
   "metadata": {}
  },
  {
   "cell_type": "code",
   "execution_count": 101,
   "source": [
    "complaint_data = complaint_data.drop(['author', 'posted_on'],axis=1)\r\n",
    "complaint_data.head()"
   ],
   "outputs": [
    {
     "output_type": "execute_result",
     "data": {
      "text/plain": [
       "   rating                                               text\n",
       "0       1  I used to love Comcast. Until all these consta...\n",
       "1       1  I'm so over Comcast! The worst internet provid...\n",
       "2       1  If I could give them a negative star or no sta...\n",
       "3       1  I've had the worst experiences so far since in...\n",
       "4       1  Check your contract when you sign up for Comca..."
      ],
      "text/html": [
       "<div>\n",
       "<style scoped>\n",
       "    .dataframe tbody tr th:only-of-type {\n",
       "        vertical-align: middle;\n",
       "    }\n",
       "\n",
       "    .dataframe tbody tr th {\n",
       "        vertical-align: top;\n",
       "    }\n",
       "\n",
       "    .dataframe thead th {\n",
       "        text-align: right;\n",
       "    }\n",
       "</style>\n",
       "<table border=\"1\" class=\"dataframe\">\n",
       "  <thead>\n",
       "    <tr style=\"text-align: right;\">\n",
       "      <th></th>\n",
       "      <th>rating</th>\n",
       "      <th>text</th>\n",
       "    </tr>\n",
       "  </thead>\n",
       "  <tbody>\n",
       "    <tr>\n",
       "      <th>0</th>\n",
       "      <td>1</td>\n",
       "      <td>I used to love Comcast. Until all these consta...</td>\n",
       "    </tr>\n",
       "    <tr>\n",
       "      <th>1</th>\n",
       "      <td>1</td>\n",
       "      <td>I'm so over Comcast! The worst internet provid...</td>\n",
       "    </tr>\n",
       "    <tr>\n",
       "      <th>2</th>\n",
       "      <td>1</td>\n",
       "      <td>If I could give them a negative star or no sta...</td>\n",
       "    </tr>\n",
       "    <tr>\n",
       "      <th>3</th>\n",
       "      <td>1</td>\n",
       "      <td>I've had the worst experiences so far since in...</td>\n",
       "    </tr>\n",
       "    <tr>\n",
       "      <th>4</th>\n",
       "      <td>1</td>\n",
       "      <td>Check your contract when you sign up for Comca...</td>\n",
       "    </tr>\n",
       "  </tbody>\n",
       "</table>\n",
       "</div>"
      ]
     },
     "metadata": {},
     "execution_count": 101
    }
   ],
   "metadata": {}
  },
  {
   "cell_type": "code",
   "execution_count": 102,
   "source": [
    "complaint_data = complaint_data.loc[complaint_data['rating'] == 0]\r\n",
    "complaint_data.loc[complaint_data['rating'] == 0, 'rating'] = 1\r\n",
    "complaint_data.rename(columns = {'rating': 'Category'}, inplace = True)\r\n",
    "print(complaint_data.head())\r\n",
    "print(len(complaint_data))"
   ],
   "outputs": [
    {
     "output_type": "stream",
     "name": "stdout",
     "text": [
      "      Category                                               text\n",
      "1057         1  Comcast Internet high-speed is not high-speed ...\n",
      "1062         1  I couldn't get online in the internet although...\n",
      "1063         1  I am unable to access the internet on one of m...\n",
      "1064         1  I disconnected Comcast May 2nd 2011.  I was to...\n",
      "1065         1  I am being charged for services when my servic...\n",
      "1560\n"
     ]
    }
   ],
   "metadata": {}
  },
  {
   "cell_type": "code",
   "execution_count": 103,
   "source": [
    "#  review data\r\n",
    "review_data = pd.read_csv('category/review_data.csv')\r\n",
    "review_data.columns"
   ],
   "outputs": [
    {
     "output_type": "execute_result",
     "data": {
      "text/plain": [
       "Index(['rating', 'date', 'variation', 'verified_reviews', 'feedback'], dtype='object')"
      ]
     },
     "metadata": {},
     "execution_count": 103
    }
   ],
   "metadata": {}
  },
  {
   "cell_type": "code",
   "execution_count": 104,
   "source": [
    "review_data = review_data.drop(['rating', 'date', 'variation'],axis=1)\r\n",
    "review_data.head()"
   ],
   "outputs": [
    {
     "output_type": "execute_result",
     "data": {
      "text/plain": [
       "                                    verified_reviews  feedback\n",
       "0                                      Love my Echo!         1\n",
       "1                                          Loved it!         1\n",
       "2  Sometimes while playing a game, you can answer...         1\n",
       "3  I have had a lot of fun with this thing. My 4 ...         1\n",
       "4                                              Music         1"
      ],
      "text/html": [
       "<div>\n",
       "<style scoped>\n",
       "    .dataframe tbody tr th:only-of-type {\n",
       "        vertical-align: middle;\n",
       "    }\n",
       "\n",
       "    .dataframe tbody tr th {\n",
       "        vertical-align: top;\n",
       "    }\n",
       "\n",
       "    .dataframe thead th {\n",
       "        text-align: right;\n",
       "    }\n",
       "</style>\n",
       "<table border=\"1\" class=\"dataframe\">\n",
       "  <thead>\n",
       "    <tr style=\"text-align: right;\">\n",
       "      <th></th>\n",
       "      <th>verified_reviews</th>\n",
       "      <th>feedback</th>\n",
       "    </tr>\n",
       "  </thead>\n",
       "  <tbody>\n",
       "    <tr>\n",
       "      <th>0</th>\n",
       "      <td>Love my Echo!</td>\n",
       "      <td>1</td>\n",
       "    </tr>\n",
       "    <tr>\n",
       "      <th>1</th>\n",
       "      <td>Loved it!</td>\n",
       "      <td>1</td>\n",
       "    </tr>\n",
       "    <tr>\n",
       "      <th>2</th>\n",
       "      <td>Sometimes while playing a game, you can answer...</td>\n",
       "      <td>1</td>\n",
       "    </tr>\n",
       "    <tr>\n",
       "      <th>3</th>\n",
       "      <td>I have had a lot of fun with this thing. My 4 ...</td>\n",
       "      <td>1</td>\n",
       "    </tr>\n",
       "    <tr>\n",
       "      <th>4</th>\n",
       "      <td>Music</td>\n",
       "      <td>1</td>\n",
       "    </tr>\n",
       "  </tbody>\n",
       "</table>\n",
       "</div>"
      ]
     },
     "metadata": {},
     "execution_count": 104
    }
   ],
   "metadata": {}
  },
  {
   "cell_type": "code",
   "execution_count": 105,
   "source": [
    "review_data = review_data.loc[review_data['feedback'] == 1]\r\n",
    "review_data.loc[review_data['feedback'] == 1,'feedback'] = 2\r\n",
    "review_data.rename(columns = {'verified_reviews': 'text'}, inplace = True)\r\n",
    "review_data.rename(columns = {'feedback': 'Category'}, inplace = True)\r\n",
    "review_data = review_data[:1500]\r\n",
    "print(review_data.head())\r\n",
    "print(len(review_data))"
   ],
   "outputs": [
    {
     "output_type": "stream",
     "name": "stdout",
     "text": [
      "                                                text  Category\n",
      "0                                      Love my Echo!         2\n",
      "1                                          Loved it!         2\n",
      "2  Sometimes while playing a game, you can answer...         2\n",
      "3  I have had a lot of fun with this thing. My 4 ...         2\n",
      "4                                              Music         2\n",
      "1500\n"
     ]
    }
   ],
   "metadata": {}
  },
  {
   "cell_type": "code",
   "execution_count": 106,
   "source": [
    "#Combine all dataframes into one master dataframe\r\n",
    "data = pd.concat([spam_data, complaint_data, review_data], ignore_index = True)\r\n",
    "print(data.head())\r\n",
    "print(len(data))"
   ],
   "outputs": [
    {
     "output_type": "stream",
     "name": "stdout",
     "text": [
      "  Category                                               text\n",
      "0        0  Free entry in 2 a wkly comp to win FA Cup fina...\n",
      "1        0  FreeMsg Hey there darling it's been 3 week's n...\n",
      "2        0  WINNER!! As a valued network customer you have...\n",
      "3        0  Had your mobile 11 months or more? U R entitle...\n",
      "4        0  SIX chances to win CASH! From 100 to 20,000 po...\n",
      "3807\n"
     ]
    }
   ],
   "metadata": {}
  },
  {
   "cell_type": "code",
   "execution_count": 107,
   "source": [
    "# Preprocessing\r\n",
    "\r\n",
    "## Drop missing value\r\n",
    "data = data.dropna(axis = 0, how ='any')\r\n",
    "len(data)"
   ],
   "outputs": [
    {
     "output_type": "execute_result",
     "data": {
      "text/plain": [
       "3777"
      ]
     },
     "metadata": {},
     "execution_count": 107
    }
   ],
   "metadata": {}
  },
  {
   "cell_type": "code",
   "execution_count": 136,
   "source": [
    "from spacy.lang.en.stop_words import STOP_WORDS\r\n",
    "from collections import Counter\r\n",
    "import string\r\n",
    "import spacy\r\n",
    "\r\n",
    "# Lemmatization\r\n",
    "def lemmetization(doc):\r\n",
    "    words = []\r\n",
    "    for word in doc:\r\n",
    "        if word.lemma_ != \"-PRON-\":\r\n",
    "            temp = word.lemma_.lower().strip()\r\n",
    "        else:\r\n",
    "            temp = word.lower_\r\n",
    "\r\n",
    "        words.append(temp)\r\n",
    "\r\n",
    "    return words\r\n",
    "\r\n",
    "# Remove punctuation and stopwords\r\n",
    "def punc_removal(doc):\r\n",
    "    words = []\r\n",
    "    for word in doc:\r\n",
    "        if word not in list(STOP_WORDS) and word not in string.punctuation:\r\n",
    "            words.append(word)\r\n",
    "    \r\n",
    "    return words\r\n",
    "\r\n",
    "save_words = []\r\n",
    "def text_cleaning_english(text,mynlp):\r\n",
    "\r\n",
    "    doc = mynlp(text)\r\n",
    "    # lemmetization\r\n",
    "    words = lemmetization(doc)\r\n",
    "    # remove punctuation\r\n",
    "    words = punc_removal(words)\r\n",
    "\r\n",
    "    # save all words in the data file\r\n",
    "    for word in words:\r\n",
    "        save_words.append(word)\r\n",
    "\r\n",
    "    # traverse in the string     \r\n",
    "    complete_sentence = ' '.join([str(word) for word in words])\r\n",
    "    \r\n",
    "    return complete_sentence\r\n",
    "\r\n",
    "def most_used_words():\r\n",
    "    list = []\r\n",
    "    common_words = Counter(save_words).most_common(5)\r\n",
    "    for key, value in common_words:\r\n",
    "        list.append({'category': key, 'value': value})\r\n",
    "\r\n",
    "    return list"
   ],
   "outputs": [],
   "metadata": {}
  },
  {
   "cell_type": "code",
   "execution_count": 137,
   "source": [
    "nlp = spacy.load(\"en_core_web_sm\")\r\n",
    "text_cleaning = lambda x: text_cleaning_english(x,mynlp=nlp)\r\n",
    "data['cleaned_text'] = pd.DataFrame(data['text'].apply(text_cleaning))\r\n",
    "\r\n",
    "common_words = most_used_words()\r\n",
    "print(common_words)"
   ],
   "outputs": [
    {
     "output_type": "stream",
     "name": "stdout",
     "text": [
      "[{'category': 'comcast', 'value': 4853}, {'category': 'service', 'value': 4413}, {'category': 'tell', 'value': 2492}, {'category': 'time', 'value': 2082}, {'category': 'cable', 'value': 1886}]\n"
     ]
    }
   ],
   "metadata": {}
  },
  {
   "cell_type": "code",
   "execution_count": 144,
   "source": [
    "## Drop missing value\r\n",
    "data['cleaned_text'].isna()"
   ],
   "outputs": [
    {
     "output_type": "execute_result",
     "data": {
      "text/plain": [
       "0       False\n",
       "1       False\n",
       "2       False\n",
       "3       False\n",
       "4       False\n",
       "        ...  \n",
       "3802    False\n",
       "3803    False\n",
       "3804    False\n",
       "3805    False\n",
       "3806    False\n",
       "Name: cleaned_text, Length: 3777, dtype: bool"
      ]
     },
     "metadata": {},
     "execution_count": 144
    }
   ],
   "metadata": {}
  },
  {
   "cell_type": "code",
   "execution_count": 139,
   "source": [
    "# SPLIT TRAINING & TESTING DATA\r\n",
    "from sklearn.model_selection import train_test_split\r\n",
    "\r\n",
    "X_train, X_test, y_train, y_test = train_test_split(data['cleaned_text'],data['Category'],test_size=0.2,shuffle=True, random_state=42)\r\n",
    "print(X_train.shape, y_train.shape)"
   ],
   "outputs": [
    {
     "output_type": "stream",
     "name": "stdout",
     "text": [
      "(3021,) (3021,)\n"
     ]
    }
   ],
   "metadata": {}
  },
  {
   "cell_type": "code",
   "execution_count": 140,
   "source": [
    "X_test"
   ],
   "outputs": [
    {
     "output_type": "execute_result",
     "data": {
      "text/plain": [
       "3560    https://www.amazon.com/dp/b073sqyxtw/ref=cm_cr...\n",
       "999     comcast new site format push user throat choic...\n",
       "3053    4.5 5 stars generally like product great ask l...\n",
       "1561    type 132,78 online bill payment instead 132.78...\n",
       "2458       met exceed expectation easy set quick response\n",
       "                              ...                        \n",
       "1686    clear customer service priority clear comacast...\n",
       "764     kenneth president fairly large electrical cont...\n",
       "2309    play game answer question correctly alexa wron...\n",
       "3211                            work great perfect office\n",
       "3575    easy use dot pick voice far away speaker lot c...\n",
       "Name: cleaned_text, Length: 756, dtype: object"
      ]
     },
     "metadata": {},
     "execution_count": 140
    }
   ],
   "metadata": {}
  },
  {
   "cell_type": "code",
   "execution_count": 141,
   "source": [
    "y_test.value_counts()"
   ],
   "outputs": [
    {
     "output_type": "execute_result",
     "data": {
      "text/plain": [
       "1    303\n",
       "2    284\n",
       "0    169\n",
       "Name: Category, dtype: int64"
      ]
     },
     "metadata": {},
     "execution_count": 141
    }
   ],
   "metadata": {}
  },
  {
   "cell_type": "code",
   "execution_count": 1,
   "source": [
    "from sklearn.feature_extraction.text import TfidfVectorizer\r\n",
    "from sklearn.pipeline import Pipeline\r\n",
    "from sklearn.svm import LinearSVC \r\n",
    "from sklearn.linear_model import LogisticRegression\r\n",
    "from xgboost import XGBClassifier\r\n",
    "from sklearn.linear_model import SGDClassifier\r\n",
    "from sklearn.naive_bayes import MultinomialNB\r\n",
    "from sklearn.preprocessing import StandardScaler\r\n",
    "from sklearn.metrics import classification_report,confusion_matrix, accuracy_score, precision_score, f1_score, recall_score\r\n",
    "\r\n",
    "def sentiment_pipeline(data_train_input,data_train_target,model_type):\r\n",
    "    # Classifier selection\r\n",
    "    if model_type == \"linear\":\r\n",
    "        classifier = LinearSVC()\r\n",
    "    elif model_type == \"logistic\":\r\n",
    "        classifier = LogisticRegression(max_iter=1000)\r\n",
    "    elif model_type == \"sgd\":\r\n",
    "        classifier = SGDClassifier()\r\n",
    "    elif model_type == \"naive_bayes\":\r\n",
    "        classifier = MultinomialNB()\r\n",
    "    elif model_type == \"xgboost\":\r\n",
    "        classifier = XGBClassifier(use_label_encoder=False,eta=0.1,gamma=0.3, n_estimators=100, learning_rate=0.5, min_child_weight=5, \r\n",
    "        max_depth=5, colsample_bytree=0.7,objective=\"multi:softmax\", eval_metric=\"mlogloss\",verbosity=0)\r\n",
    "\r\n",
    "    tfidf = TfidfVectorizer()\r\n",
    "\r\n",
    "    # Pipeline setup\r\n",
    "    clf = Pipeline([('tfidf', tfidf), ('clf', classifier)])\r\n",
    "\r\n",
    "    model = clf.fit(data_train_input,data_train_target)\r\n",
    "\r\n",
    "    return model\r\n",
    "\r\n",
    "def sentiment_model_predict(model,data_test_input,data_test_target):\r\n",
    "    data_prediction=model.predict(data_test_input)\r\n",
    "    conf_matrix = confusion_matrix(data_test_target,data_prediction)\r\n",
    "    acc_score = accuracy_score(data_test_target, data_prediction)\r\n",
    "    pre_score = precision_score(data_test_target, data_prediction, average=\"macro\")\r\n",
    "    re_score = recall_score(data_test_target, data_prediction, average=\"macro\")\r\n",
    "    f_score = f1_score(data_test_target, data_prediction, average=\"macro\")\r\n",
    "\r\n",
    "    print(\"Accuracy : \"+str(round(acc_score*100,2)))\r\n",
    "    print(\"Precision : \"+str(round(pre_score*100,2)))\r\n",
    "    print(\"Recall : \"+str(round(re_score*100,2)))\r\n",
    "    print(\"F1-Score :\"+str(round(f_score*100,2)))\r\n",
    "    print(conf_matrix)"
   ],
   "outputs": [],
   "metadata": {}
  },
  {
   "cell_type": "code",
   "execution_count": 2,
   "source": [
    "# Xgboost\r\n",
    "xg_model = sentiment_pipeline(X_train, y_train, 'xgboost')\r\n",
    "sentiment_model_predict(xg_model,X_test,y_test)"
   ],
   "outputs": [
    {
     "output_type": "error",
     "ename": "NameError",
     "evalue": "name 'X_train' is not defined",
     "traceback": [
      "\u001b[1;31m---------------------------------------------------------------------------\u001b[0m",
      "\u001b[1;31mNameError\u001b[0m                                 Traceback (most recent call last)",
      "\u001b[1;32m~\\AppData\\Local\\Temp/ipykernel_16188/4128276767.py\u001b[0m in \u001b[0;36m<module>\u001b[1;34m\u001b[0m\n\u001b[0;32m      1\u001b[0m \u001b[1;31m# Xgboost\u001b[0m\u001b[1;33m\u001b[0m\u001b[1;33m\u001b[0m\u001b[1;33m\u001b[0m\u001b[0m\n\u001b[1;32m----> 2\u001b[1;33m \u001b[0mxg_model\u001b[0m \u001b[1;33m=\u001b[0m \u001b[0msentiment_pipeline\u001b[0m\u001b[1;33m(\u001b[0m\u001b[0mX_train\u001b[0m\u001b[1;33m,\u001b[0m \u001b[0my_train\u001b[0m\u001b[1;33m,\u001b[0m \u001b[1;34m'xgboost'\u001b[0m\u001b[1;33m)\u001b[0m\u001b[1;33m\u001b[0m\u001b[1;33m\u001b[0m\u001b[0m\n\u001b[0m\u001b[0;32m      3\u001b[0m \u001b[0msentiment_model_predict\u001b[0m\u001b[1;33m(\u001b[0m\u001b[0mxg_model\u001b[0m\u001b[1;33m,\u001b[0m\u001b[0mX_test\u001b[0m\u001b[1;33m,\u001b[0m\u001b[0my_test\u001b[0m\u001b[1;33m)\u001b[0m\u001b[1;33m\u001b[0m\u001b[1;33m\u001b[0m\u001b[0m\n",
      "\u001b[1;31mNameError\u001b[0m: name 'X_train' is not defined"
     ]
    }
   ],
   "metadata": {}
  },
  {
   "cell_type": "code",
   "execution_count": null,
   "source": [],
   "outputs": [],
   "metadata": {}
  }
 ],
 "metadata": {
  "orig_nbformat": 4,
  "language_info": {
   "name": "python",
   "version": "3.7.4",
   "mimetype": "text/x-python",
   "codemirror_mode": {
    "name": "ipython",
    "version": 3
   },
   "pygments_lexer": "ipython3",
   "nbconvert_exporter": "python",
   "file_extension": ".py"
  },
  "kernelspec": {
   "name": "python3",
   "display_name": "Python 3.7.4 64-bit ('venv': venv)"
  },
  "interpreter": {
   "hash": "fa3fb38b5f65cee2ff0a035c4da5328998564043868f6520890cc31ef10c108b"
  }
 },
 "nbformat": 4,
 "nbformat_minor": 2
}