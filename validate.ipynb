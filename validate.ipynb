{
 "cells": [
  {
   "cell_type": "code",
   "execution_count": 1,
   "source": [
    "import pandas as pd \r\n",
    "import numpy as np "
   ],
   "outputs": [],
   "metadata": {}
  },
  {
   "cell_type": "code",
   "execution_count": 2,
   "source": [
    "# test = {'email': ['adli', 'abu'], 'user': ['adlifuddin', 'abuddin'], 'age': [22, 25]}\r\n",
    "# test_data = pd.DataFrame(test)\r\n",
    "# test_data"
   ],
   "outputs": [],
   "metadata": {}
  },
  {
   "cell_type": "code",
   "execution_count": 3,
   "source": [
    "# import re\r\n",
    "\r\n",
    "# email_re = r'\\b[A-Za-z0-9._%+-]+@[A-Za-z0-9.-]+\\.[A-Z|a-z]{2,}\\b'\r\n",
    "\r\n",
    "# def validate_email(data, columns):\r\n",
    "#     print(data)\r\n",
    "#     test = False\r\n",
    "#     for index, row in data.iterrows():\r\n",
    "#         for col in columns:\r\n",
    "#             if type(row[col]) == str:\r\n",
    "#                 if(re.match(email_re, row[col])):\r\n",
    "#                     test = True\r\n",
    "#                     break\r\n",
    "    \r\n",
    "#     return test"
   ],
   "outputs": [],
   "metadata": {}
  },
  {
   "cell_type": "code",
   "execution_count": 4,
   "source": [
    "# check = validate_email(test_data.head(1), test_data.columns)\r\n",
    "# if check:\r\n",
    "#     print('contains email')\r\n",
    "# else:\r\n",
    "#     print('no email')"
   ],
   "outputs": [],
   "metadata": {}
  },
  {
   "cell_type": "code",
   "execution_count": 5,
   "source": [
    "# sentence = 'Saya suka makan nasi kandaq #nasikandaq #penang'"
   ],
   "outputs": [],
   "metadata": {}
  },
  {
   "cell_type": "code",
   "execution_count": 6,
   "source": [
    "data = pd.read_csv(\"category/CHINESE_SENTIMENT_TRAIN_COMBINED.csv\")\r\n",
    "data.head()"
   ],
   "outputs": [],
   "metadata": {}
  }
 ],
 "metadata": {
  "orig_nbformat": 4,
  "language_info": {
   "name": "python",
   "version": "3.7.4",
   "mimetype": "text/x-python",
   "codemirror_mode": {
    "name": "ipython",
    "version": 3
   },
   "pygments_lexer": "ipython3",
   "nbconvert_exporter": "python",
   "file_extension": ".py"
  },
  "kernelspec": {
   "name": "python3",
   "display_name": "Python 3.7.4 64-bit ('venv': venv)"
  },
  "interpreter": {
   "hash": "b1007aeb067658d5f97dc4a1ec7f21bd98c3ed76896e5654db8db841fc6b65dc"
  }
 },
 "nbformat": 4,
 "nbformat_minor": 2
}